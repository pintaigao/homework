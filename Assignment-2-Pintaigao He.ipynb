{
 "cells": [
  {
   "cell_type": "markdown",
   "id": "8f8bc005",
   "metadata": {},
   "source": [
    "## Exercise 3\n",
    "1. Compute the Gini index for the overall collection of training examples.<br/>\n",
    "$G(v_{i}) = 1 - \\displaystyle \\sum_{j=1}^k p_{j}^{2}$ = 1 - [$(\\frac{10}{20})^2$ + $(\\frac{10}{20})^2$] = $\\frac{1}{2}$\n",
    "\n",
    "2. Compute the Gini index for the Customer ID attribute.<br/>\n",
    "$G(v_{i}) = 1 - \\displaystyle \\sum_{j=1}^k p_{j}^{2}$ = 1 - [$(\\frac{0}{1})^2$ + $(\\frac{1}{1})^2$] = 0\n",
    "\n",
    "3. Compute the Gini index for the Gender attribute.<br/>\n",
    "Gini index for male: \n",
    "$G(v_{i}) = 1 - \\displaystyle \\sum_{j=1}^k p_{j}^{2}$ = 1 - [$(\\frac{6}{20})^2$ + $(\\frac{4}{20})^2$] = 0.48 <br/>\n",
    "Gini index for female: \n",
    "$G(v_{i}) = 1 - \\displaystyle \\sum_{j=1}^k p_{j}^{2}$ = 1 - [$(\\frac{6}{20})^2$ + $(\\frac{4}{20})^2$] = 0.48 <br/>\n",
    "Therefore Gini index for the car type is: $\\frac{10}{20}$ * 0.48 + $\\frac{10}{20}$ * 0.48 = 0.48<br/>\n",
    "\n",
    "4. Compute the Gini index for the Car Type attribute using multiway split.<br/>\n",
    "Gini index for family type:\n",
    "$G(v_{i}) = 1 - \\displaystyle \\sum_{j=1}^k p_{j}^{2}$ = 1 - [$(\\frac{1}{4})^2$ + $(\\frac{3}{4})^2$] = 0.375<br/>\n",
    "Gini index for Sport type:\n",
    "$G(v_{i}) = 1 - \\displaystyle \\sum_{j=1}^k p_{j}^{2}$ = 1 - [$(\\frac{8}{8})^2$ + $(\\frac{0}{8})^2$] = 0<br/>\n",
    "Gini index for Luxury type:\n",
    "$G(v_{i}) = 1 - \\displaystyle \\sum_{j=1}^k p_{j}^{2}$ = 1 - [$(\\frac{1}{8})^2$ + $(\\frac{7}{8})^2$] = 0.21875<br/>\n",
    "Therefore Gini index for the car type is: $\\frac{4}{20}$ * 0.375 + $\\frac{8}{20}$ * 0 + $\\frac{8}{20}$ * 0.21875 = 0.163<br/>\n",
    "\n",
    "5. Compute the Gini index for the Shirt Size attribute using multiway split. <br/>\n",
    "Gini index for small type:\n",
    "$G(v_{i}) = 1 - \\displaystyle \\sum_{j=1}^k p_{j}^{2}$ = 1 - [$(\\frac{3}{5})^2$ + $(\\frac{2}{5})^2$] = 0.48<br/>\n",
    "Gini index for medium type:\n",
    "$G(v_{i}) = 1 - \\displaystyle \\sum_{j=1}^k p_{j}^{2}$ = 1 - [$(\\frac{3}{7})^2$ + $(\\frac{4}{7})^2$] = 0.49<br/>\n",
    "Gini index for large type:\n",
    "$G(v_{i}) = 1 - \\displaystyle \\sum_{j=1}^k p_{j}^{2}$ = 1 - [$(\\frac{2}{4})^2$ + $(\\frac{2}{4})^2$] = 0.5<br/>\n",
    "Gini index for extra large type:\n",
    "$G(v_{i}) = 1 - \\displaystyle \\sum_{j=1}^k p_{j}^{2}$ = 1 - [$(\\frac{2}{4})^2$ + $(\\frac{2}{4})^2$] = 0.5<br/>\n",
    "Therefore Gini index for the shirt size is: $\\frac{5}{20}$ * 0.48 + $\\frac{7}{20}$ * 0.49 + $\\frac{4}{20}$ * 0.5 + $\\frac{4}{20}$ * 0.5 = 0.4915<br/>\n",
    "\n",
    "6. Which attribute is better, Gender, Car Type, or Shirt Size? <br/>\n",
    "When comparing Gender, Car Type, and Shirt Size using the Gini Index, Car Type would be the better attribute.  The Gini Index takes into consideration the distribution of the sample with zero reflecting the most distributed sample set.  Out of the three listed attributes, Car Type has the lowest Gini Index.\n",
    "\n",
    "7. Explain why Customer ID should not be used as the attribute test condition even though it has the lowest Gini. <br/>\n",
    "Customer ID should not be used as the attribute test condition because each attribute is unique."
   ]
  },
  {
   "cell_type": "markdown",
   "id": "46f4b4b2",
   "metadata": {},
   "source": [
    "## Exercise 4\n",
    "1. What is the entropy of this collection of training examples with respect to the class attribute? <br/>\n",
    " entropy of the training examples is  -(4/9Log2(4/9) + 5/9Log2(5/9)) = 0.9911\n",
    "$E(v_{i}) = - \\displaystyle \\sum_{j=1}^k p_{j}log_{2}(p_{j})$ = -[$\\frac{4}{9}$ * $\\log_2{\\frac{4}{9}}$ + $\\frac{5}{9}$ * $\\log_2{\\frac{5}{9}}$] = 0.99107 <br/>\n",
    "<br/>\n",
    "2. What are the information gains of a1 and a2 relative to these training examples? <br/>\n",
    "Entropy value for a1's T is: -[$\\frac{3}{4}$ * $\\log_2{\\frac{3}{4}}$ + $\\frac{1}{4}$ * $\\log_2{\\frac{1}{4}}$] = 0.88128 <br/>\n",
    "Entropy value for a1's F is: -[$\\frac{2}{5}$ * $\\log_2{\\frac{2}{5}}$ + $\\frac{3}{5}$ * $\\log_2{\\frac{3}{5}}$] = 0.97095 <br/>\n",
    "Entropy value for a2's T is: -[$\\frac{1}{5}$ * $\\log_2{\\frac{1}{5}}$ + $\\frac{4}{5}$ * $\\log_2{\\frac{4}{5}}$] = 0.72193 <br/>\n",
    "Entropy value for a2's F is: -[$\\frac{2}{4}$ * $\\log_2{\\frac{2}{4}}$ + $\\frac{2}{4}$ * $\\log_2{\\frac{2}{4}}$] = 1 <br/>\n",
    "<br/>\n",
    "S0 a1's information gain value is: 0.991-(4/9 * 0.81128 + 5/9 * 0.72193) = 0.229 <br/>\n",
    "a2's information gain value is: 0.991 - (5/9 * 0.971 + 4/9 * 1) = 0.007<br/>\n",
    "<br/>\n",
    "3. For a3, which is a continuous attribute, compute the information gain for every possible split. <br/>\n",
    "| a3  |Split Point|Entropy|IG|\n",
    "|---|---|---|---|\n",
    "|1.0|0.5|0.99107|0|\n",
    "|3.0|2|0.84839|0.143|\n",
    "|4.0|3.5|0.988512|0.002488|\n",
    "|5.0|4.5|0.9183|0.0727|\n",
    "|6.0|5.5|0.97095|0.007|\n",
    "|7.0|6.5|0.972765|0.018235|\n",
    "|8.0|7.5|0.8889|0.10211|\n",
    "|   |8.5|0.99108|0|\n",
    "\n",
    "4. What is the best split (among a1, a2, and a3) according to the information gain? <br/>\n",
    "According to the information gain, the best split is a1 due to its higher gain in comparison to a2 and a3.\n",
    "\n",
    "5. What is the best split (between a1 and a2) according to the misclassification error rate? <br/>\n",
    "It is a1 because it has lower classification error <br/>\n",
    "$C_{1}$ = 1 - max($p_{i,j}$) = 1 - max(7/9, 2/9) = 1- 7/9 = 0.222<br/>\n",
    "$C_{2}$ = 1 - max($p_{i,j}$) = 1 - max(5/9, 4/9) = 1- 5/9 = 0.444\n",
    "<br/>\n",
    "\n",
    "6. What is the best split(between a1 and a2) according to the Gini index? <br/>\n",
    "It is a1 because it has lower Gini value: <br/>\n",
    "a1: 1 - [(7/9)^2 + (2/9)^2] = 0.3457 <br/>\n",
    "a2: 1 - [(4/9)^2 + (5/9)^2] = 0.4938 <br/>"
   ]
  },
  {
   "cell_type": "markdown",
   "id": "e261f159",
   "metadata": {},
   "source": [
    "# Module 4 - Classification Part I\n",
    "\n",
    "## Notes\n",
    "- 1 December 2021: Ran successfully most cases."
   ]
  },
  {
   "cell_type": "code",
   "execution_count": 44,
   "id": "e4d1059e",
   "metadata": {},
   "outputs": [],
   "source": [
    "import numpy as np\n",
    "import math\n",
    "import os\n",
    "import pandas as pd\n",
    "import matplotlib.pyplot as plt\n",
    "import pydotplus \n",
    "\n",
    "from sklearn import tree\n",
    "from scipy import stats\n",
    "from IPython.display import Image"
   ]
  },
  {
   "cell_type": "markdown",
   "id": "20141f98",
   "metadata": {},
   "source": [
    "Gini coefficient @ $v_{i}$:\n",
    "\n",
    "Gini coefficient $\\in [0,1]$\n",
    "\n",
    "$G(v_{i}) = 1 - \\displaystyle \\sum_{j=1}^k p_{j}^{2}$\n",
    "\n",
    "$Overall G = \\displaystyle \\sum_{i=1}^r \\displaystyle \\frac{n_{i}G(v_{i})}{n}$\n",
    "\n",
    "Entropy coefficent $\\in [0, log_{2}k]$\n",
    "\n",
    "$E(v_{i}) = - \\displaystyle \\sum_{j=1}^k p_{j}log_{2}(p_{j})$\n",
    "\n",
    "$Overall E = \\displaystyle \\sum_{i=1}^r \\displaystyle \\frac{n_{i}E(v_{i})}{n}$\n",
    "\n",
    "Reference: Shannon Entropy\n",
    "\n",
    "$H(X) = - \\displaystyle \\sum_{i=1}^n P(x_{i})log_{2}P(x_{i})$\n",
    "\n",
    "- Both Gini & Entropy have strongest discriminant power when they approach zero (0)."
   ]
  },
  {
   "cell_type": "code",
   "execution_count": 3,
   "id": "0cff2337",
   "metadata": {},
   "outputs": [
    {
     "data": {
      "image/png": "[encoded data removed]",
      "text/plain": [
       "<Figure size 432x288 with 1 Axes>"
      ]
     },
     "metadata": {
      "needs_background": "light"
     },
     "output_type": "display_data"
    }
   ],
   "source": [
    "#A figure is created to show Gini ımpurity measures \n",
    "def plot_gini(x):\n",
    "    plt.figure()\n",
    "    # x = np.linspace(0.01,1)\n",
    "    y = 1 - (x*x) - (1-x)*(1-x) \n",
    "    plt.plot(x,y)\n",
    "    plt.title('Gini Impurity')\n",
    "    plt.xlabel(\"Fraction of Class k ($p_k$)\")\n",
    "    plt.ylabel(\"Impurity Measure\")\n",
    "    plt.xticks(np.arange(0,1.1,0.1))\n",
    "\n",
    "    plt.show()\n",
    "\n",
    "plot_gini(np.linspace(0.01,1))    "
   ]
  },
  {
   "cell_type": "code",
   "execution_count": 4,
   "id": "0db359d2",
   "metadata": {},
   "outputs": [
    {
     "data": {
      "image/png": "[encoded data removed]",
      "text/plain": [
       "<Figure size 432x288 with 1 Axes>"
      ]
     },
     "metadata": {
      "needs_background": "light"
     },
     "output_type": "display_data"
    }
   ],
   "source": [
    "def gini(p):\n",
    "   return (p)*(1 - (p)) + (1 - p)*(1 - (1-p))\n",
    "\n",
    "def entropy(p):\n",
    "   return - p*np.log2(p) - (1 - p)*np.log2((1 - p))\n",
    "\n",
    "def classification_error(p):\n",
    "   return 1 - np.max([p, 1 - p])\n",
    "\n",
    "x = np.arange(0.0, 1.0, 0.01)\n",
    "ent = [entropy(p) if p != 0 else None for p in x]\n",
    "scaled_ent = [e*0.5 if e else None for e in ent]\n",
    "c_err = [classification_error(i) for i in x]\n",
    "\n",
    "fig = plt.figure()\n",
    "ax = plt.subplot(111)\n",
    "\n",
    "for j, lab, ls, c, in zip(\n",
    "      [ent, scaled_ent, gini(x), c_err],\n",
    "      ['Entropy', 'Entropy (scaled)', 'Gini Impurity', 'Misclassification Error'],\n",
    "      ['-', '-', '--', '-.'],\n",
    "      ['lightgray', 'red', 'green', 'blue']):\n",
    "   line = ax.plot(x, j, label=lab, linestyle=ls, lw=1, color=c)\n",
    "\n",
    "ax.legend(loc='upper left', bbox_to_anchor=(0.01, 0.85),\n",
    "         ncol=1, fancybox=True, shadow=False)\n",
    "\n",
    "ax.axhline(y=0.5, linewidth=1, color='k', linestyle='--')\n",
    "ax.axhline(y=1.0, linewidth=1, color='k', linestyle='--')\n",
    "\n",
    "plt.ylim([0, 1.1])\n",
    "plt.xlabel('p(j=1)')\n",
    "plt.ylabel('Impurity Index')\n",
    "plt.show()"
   ]
  },
  {
   "cell_type": "markdown",
   "id": "b9ba8979",
   "metadata": {},
   "source": [
    "# Excersise code begins ..."
   ]
  },
  {
   "cell_type": "code",
   "execution_count": null,
   "id": "b8f13710",
   "metadata": {},
   "outputs": [],
   "source": [
    "def gini_impurity (value_counts):\n",
    "    n = value_counts.sum()\n",
    "    gini = 1\n",
    "    \n",
    "    if len(value_counts) == n:\n",
    "        return 0\n",
    "    \n",
    "    for key in value_counts.keys():\n",
    "        pj = value_counts[key]/n\n",
    "        gini -= (pj)**2    \n",
    "        \n",
    "    return gini\n",
    "\n",
    "def entropy(value_counts):\n",
    "    entropy = 0\n",
    "    for key in value_counts.keys():\n",
    "        pj = value_counts[key]/n\n",
    "        entropy += pj*math.log(pj,2)\n",
    "    return -entropy"
   ]
  },
  {
   "cell_type": "code",
   "execution_count": 55,
   "id": "318d4d96",
   "metadata": {},
   "outputs": [],
   "source": [
    "# dfs is dfs_by_classes (data seperate base on C0 and C1), feat_name is either one of [CustomerID, Gender, Car Type, Shirt Size]\n",
    "# feat_unique_values is the convert value, for example, (1 or 2) represent the (Male, Female) in Gender \n",
    "# n is the size of data\n",
    "def get_gini_by_classes(dfs, feat_name, feat_unique_values, n):\n",
    "    props = {}\n",
    "    counts = {}\n",
    "    # Go through the feat_unique_values,  \n",
    "    for value in feat_unique_values:\n",
    "        counts [value] = 0\n",
    "        # Go through the data frame(dfs), in this case is \n",
    "        for key in dfs:\n",
    "            # in this case, the key in dfs would be (C0 or C1)             \n",
    "            df = dfs[key]\n",
    "            if value not in props:\n",
    "                props[value] = []\n",
    "            # Compute that by appending of the number of the values of 1 inside the dataframe that belongs to C0\n",
    "            props[value].append(len(df[df[feat_name] == value]))\n",
    "            # See how many\n",
    "            counts[value] += len(df[df[feat_name] == value])\n",
    "            \n",
    "    ginis = {}\n",
    "    overall_g = 0\n",
    "    \n",
    "    # Compute Gini value base on the formula G(v{i}) = 1 - sum_{j=1}^k(p_{j}^2) \n",
    "    # Compute Overall Gini Value base on the formula G = sum_{i=1}^r(n{i}G(v{i})/{n})\n",
    "    for key in props:\n",
    "        g = 1\n",
    "        for val in props[key]:\n",
    "            pj = val/sum(props[key])\n",
    "            g -= pj**2\n",
    "        ginis[key] = g\n",
    "        ni = counts[key]\n",
    "        overall_g += g*ni/n\n",
    "    # return these two value\n",
    "    return ginis, overall_g\n",
    "\n",
    "import math\n",
    "# Base on the formula E(vi) = -∑p𝑗log{2}(p𝑗), calculate the Entropy values\n",
    "def get_entropy(df, label_name):\n",
    "    \n",
    "    label_values = df[label_name].unique()\n",
    "    counts = {}\n",
    "    n = len(df)\n",
    "    \n",
    "    for val in label_values:\n",
    "        counts[val] = len(df[df[label_name] == val])\n",
    "#     print(label_values)\n",
    "#     print(counts)\n",
    "    \n",
    "    e = 0\n",
    "    for key in counts:\n",
    "        val = counts[key]\n",
    "        pj = val/n\n",
    "        e -= pj*math.log(pj,2)\n",
    "#     print(round(e,4))\n",
    "    \n",
    "    return e, counts\n",
    "\n",
    "# Function to calculate the information gain base on the formula: \n",
    "# Information gain = E(s) - Sum of all Entropy of Split(S -> S1....Sr).\n",
    "def get_ig(df, label_name, feat_name):\n",
    "    e, counts = get_entropy(df, label_name)\n",
    "    feat_unique_values = df[feat_name].unique()    \n",
    "    \n",
    "    counts = {}\n",
    "    n = len(df)\n",
    "     \n",
    "    for val in feat_values:\n",
    "        counts[val] = len(df[df[feat_name] == val])\n",
    "    \n",
    "    dfs = {}\n",
    "    for cls in classes:\n",
    "        dfs[cls] = df[df[label_name] == cls]\n",
    "    feat_props = {}\n",
    "    feat_counts = {}\n",
    "    for value in feat_unique_values:\n",
    "        feat_counts [value] = 0\n",
    "        for key in dfs:\n",
    "            df = dfs[key]\n",
    "            if value not in feat_props:\n",
    "                feat_props[value] = []\n",
    "            feat_props[value].append(len(df[df[feat_name] == value]))\n",
    "            feat_counts[value] += len(df[df[feat_name] == value])\n",
    "    \n",
    "    print('feat_unique_values', feat_unique_values)\n",
    "    print('feat_counts', feat_counts)\n",
    "    e_split = 0\n",
    "    for key in feat_counts:\n",
    "        pi = feat_counts[key]/n\n",
    "        ei = 0\n",
    "        for count in feat_props[key]:                \n",
    "            pj = count/sum(feat_props[key])\n",
    "            if pj > 0:\n",
    "                ei -= pj*math.log(pj,2)\n",
    "            \n",
    "        e_split += pi*ei\n",
    "        print(f'{feat_counts[key]}: {e_split}')\n",
    "    \n",
    "    return e_split, e - e_split\n",
    "\n"
   ]
  },
  {
   "cell_type": "code",
   "execution_count": 50,
   "id": "acfe7bce",
   "metadata": {
    "scrolled": true
   },
   "outputs": [
    {
     "data": {
      "text/html": [
       "<style  type=\"text/css\" >\n",
       "</style><table id=\"T_c9a61_\" ><thead>    <tr>        <th class=\"blank level0\" ></th>        <th class=\"col_heading level0 col0\" >CustomerID</th>        <th class=\"col_heading level0 col1\" >Gender</th>        <th class=\"col_heading level0 col2\" >Car Type</th>        <th class=\"col_heading level0 col3\" >Shirt Size</th>        <th class=\"col_heading level0 col4\" >Class</th>    </tr></thead><tbody>\n",
       "                <tr>\n",
       "                        <th id=\"T_c9a61_level0_row0\" class=\"row_heading level0 row0\" >0</th>\n",
       "                        <td id=\"T_c9a61_row0_col0\" class=\"data row0 col0\" >1</td>\n",
       "                        <td id=\"T_c9a61_row0_col1\" class=\"data row0 col1\" >M</td>\n",
       "                        <td id=\"T_c9a61_row0_col2\" class=\"data row0 col2\" >Family</td>\n",
       "                        <td id=\"T_c9a61_row0_col3\" class=\"data row0 col3\" >Small</td>\n",
       "                        <td id=\"T_c9a61_row0_col4\" class=\"data row0 col4\" >C0</td>\n",
       "            </tr>\n",
       "            <tr>\n",
       "                        <th id=\"T_c9a61_level0_row1\" class=\"row_heading level0 row1\" >1</th>\n",
       "                        <td id=\"T_c9a61_row1_col0\" class=\"data row1 col0\" >2</td>\n",
       "                        <td id=\"T_c9a61_row1_col1\" class=\"data row1 col1\" >M</td>\n",
       "                        <td id=\"T_c9a61_row1_col2\" class=\"data row1 col2\" >Sports</td>\n",
       "                        <td id=\"T_c9a61_row1_col3\" class=\"data row1 col3\" >Medium</td>\n",
       "                        <td id=\"T_c9a61_row1_col4\" class=\"data row1 col4\" >C0</td>\n",
       "            </tr>\n",
       "            <tr>\n",
       "                        <th id=\"T_c9a61_level0_row2\" class=\"row_heading level0 row2\" >2</th>\n",
       "                        <td id=\"T_c9a61_row2_col0\" class=\"data row2 col0\" >3</td>\n",
       "                        <td id=\"T_c9a61_row2_col1\" class=\"data row2 col1\" >M</td>\n",
       "                        <td id=\"T_c9a61_row2_col2\" class=\"data row2 col2\" >Sports</td>\n",
       "                        <td id=\"T_c9a61_row2_col3\" class=\"data row2 col3\" >Medium</td>\n",
       "                        <td id=\"T_c9a61_row2_col4\" class=\"data row2 col4\" >C0</td>\n",
       "            </tr>\n",
       "            <tr>\n",
       "                        <th id=\"T_c9a61_level0_row3\" class=\"row_heading level0 row3\" >3</th>\n",
       "                        <td id=\"T_c9a61_row3_col0\" class=\"data row3 col0\" >4</td>\n",
       "                        <td id=\"T_c9a61_row3_col1\" class=\"data row3 col1\" >M</td>\n",
       "                        <td id=\"T_c9a61_row3_col2\" class=\"data row3 col2\" >Sports</td>\n",
       "                        <td id=\"T_c9a61_row3_col3\" class=\"data row3 col3\" >Large</td>\n",
       "                        <td id=\"T_c9a61_row3_col4\" class=\"data row3 col4\" >C0</td>\n",
       "            </tr>\n",
       "            <tr>\n",
       "                        <th id=\"T_c9a61_level0_row4\" class=\"row_heading level0 row4\" >4</th>\n",
       "                        <td id=\"T_c9a61_row4_col0\" class=\"data row4 col0\" >5</td>\n",
       "                        <td id=\"T_c9a61_row4_col1\" class=\"data row4 col1\" >M</td>\n",
       "                        <td id=\"T_c9a61_row4_col2\" class=\"data row4 col2\" >Sports</td>\n",
       "                        <td id=\"T_c9a61_row4_col3\" class=\"data row4 col3\" >Extra Large</td>\n",
       "                        <td id=\"T_c9a61_row4_col4\" class=\"data row4 col4\" >C0</td>\n",
       "            </tr>\n",
       "            <tr>\n",
       "                        <th id=\"T_c9a61_level0_row5\" class=\"row_heading level0 row5\" >5</th>\n",
       "                        <td id=\"T_c9a61_row5_col0\" class=\"data row5 col0\" >6</td>\n",
       "                        <td id=\"T_c9a61_row5_col1\" class=\"data row5 col1\" >M</td>\n",
       "                        <td id=\"T_c9a61_row5_col2\" class=\"data row5 col2\" >Sports</td>\n",
       "                        <td id=\"T_c9a61_row5_col3\" class=\"data row5 col3\" >Extra Large</td>\n",
       "                        <td id=\"T_c9a61_row5_col4\" class=\"data row5 col4\" >C0</td>\n",
       "            </tr>\n",
       "            <tr>\n",
       "                        <th id=\"T_c9a61_level0_row6\" class=\"row_heading level0 row6\" >6</th>\n",
       "                        <td id=\"T_c9a61_row6_col0\" class=\"data row6 col0\" >7</td>\n",
       "                        <td id=\"T_c9a61_row6_col1\" class=\"data row6 col1\" >F</td>\n",
       "                        <td id=\"T_c9a61_row6_col2\" class=\"data row6 col2\" >Sports</td>\n",
       "                        <td id=\"T_c9a61_row6_col3\" class=\"data row6 col3\" >Small</td>\n",
       "                        <td id=\"T_c9a61_row6_col4\" class=\"data row6 col4\" >C0</td>\n",
       "            </tr>\n",
       "            <tr>\n",
       "                        <th id=\"T_c9a61_level0_row7\" class=\"row_heading level0 row7\" >7</th>\n",
       "                        <td id=\"T_c9a61_row7_col0\" class=\"data row7 col0\" >8</td>\n",
       "                        <td id=\"T_c9a61_row7_col1\" class=\"data row7 col1\" >F</td>\n",
       "                        <td id=\"T_c9a61_row7_col2\" class=\"data row7 col2\" >Sports</td>\n",
       "                        <td id=\"T_c9a61_row7_col3\" class=\"data row7 col3\" >Small</td>\n",
       "                        <td id=\"T_c9a61_row7_col4\" class=\"data row7 col4\" >C0</td>\n",
       "            </tr>\n",
       "            <tr>\n",
       "                        <th id=\"T_c9a61_level0_row8\" class=\"row_heading level0 row8\" >8</th>\n",
       "                        <td id=\"T_c9a61_row8_col0\" class=\"data row8 col0\" >9</td>\n",
       "                        <td id=\"T_c9a61_row8_col1\" class=\"data row8 col1\" >F</td>\n",
       "                        <td id=\"T_c9a61_row8_col2\" class=\"data row8 col2\" >Sports</td>\n",
       "                        <td id=\"T_c9a61_row8_col3\" class=\"data row8 col3\" >Medium</td>\n",
       "                        <td id=\"T_c9a61_row8_col4\" class=\"data row8 col4\" >C0</td>\n",
       "            </tr>\n",
       "            <tr>\n",
       "                        <th id=\"T_c9a61_level0_row9\" class=\"row_heading level0 row9\" >9</th>\n",
       "                        <td id=\"T_c9a61_row9_col0\" class=\"data row9 col0\" >10</td>\n",
       "                        <td id=\"T_c9a61_row9_col1\" class=\"data row9 col1\" >F</td>\n",
       "                        <td id=\"T_c9a61_row9_col2\" class=\"data row9 col2\" >Luxury</td>\n",
       "                        <td id=\"T_c9a61_row9_col3\" class=\"data row9 col3\" >Large</td>\n",
       "                        <td id=\"T_c9a61_row9_col4\" class=\"data row9 col4\" >C0</td>\n",
       "            </tr>\n",
       "            <tr>\n",
       "                        <th id=\"T_c9a61_level0_row10\" class=\"row_heading level0 row10\" >10</th>\n",
       "                        <td id=\"T_c9a61_row10_col0\" class=\"data row10 col0\" >11</td>\n",
       "                        <td id=\"T_c9a61_row10_col1\" class=\"data row10 col1\" >M</td>\n",
       "                        <td id=\"T_c9a61_row10_col2\" class=\"data row10 col2\" >Family</td>\n",
       "                        <td id=\"T_c9a61_row10_col3\" class=\"data row10 col3\" >Large</td>\n",
       "                        <td id=\"T_c9a61_row10_col4\" class=\"data row10 col4\" >C1</td>\n",
       "            </tr>\n",
       "            <tr>\n",
       "                        <th id=\"T_c9a61_level0_row11\" class=\"row_heading level0 row11\" >11</th>\n",
       "                        <td id=\"T_c9a61_row11_col0\" class=\"data row11 col0\" >12</td>\n",
       "                        <td id=\"T_c9a61_row11_col1\" class=\"data row11 col1\" >M</td>\n",
       "                        <td id=\"T_c9a61_row11_col2\" class=\"data row11 col2\" >Family</td>\n",
       "                        <td id=\"T_c9a61_row11_col3\" class=\"data row11 col3\" >Extra Large</td>\n",
       "                        <td id=\"T_c9a61_row11_col4\" class=\"data row11 col4\" >C1</td>\n",
       "            </tr>\n",
       "            <tr>\n",
       "                        <th id=\"T_c9a61_level0_row12\" class=\"row_heading level0 row12\" >12</th>\n",
       "                        <td id=\"T_c9a61_row12_col0\" class=\"data row12 col0\" >13</td>\n",
       "                        <td id=\"T_c9a61_row12_col1\" class=\"data row12 col1\" >M</td>\n",
       "                        <td id=\"T_c9a61_row12_col2\" class=\"data row12 col2\" >Family</td>\n",
       "                        <td id=\"T_c9a61_row12_col3\" class=\"data row12 col3\" >Medium</td>\n",
       "                        <td id=\"T_c9a61_row12_col4\" class=\"data row12 col4\" >C1</td>\n",
       "            </tr>\n",
       "            <tr>\n",
       "                        <th id=\"T_c9a61_level0_row13\" class=\"row_heading level0 row13\" >13</th>\n",
       "                        <td id=\"T_c9a61_row13_col0\" class=\"data row13 col0\" >14</td>\n",
       "                        <td id=\"T_c9a61_row13_col1\" class=\"data row13 col1\" >M</td>\n",
       "                        <td id=\"T_c9a61_row13_col2\" class=\"data row13 col2\" >Luxury</td>\n",
       "                        <td id=\"T_c9a61_row13_col3\" class=\"data row13 col3\" >Extra Large</td>\n",
       "                        <td id=\"T_c9a61_row13_col4\" class=\"data row13 col4\" >C1</td>\n",
       "            </tr>\n",
       "            <tr>\n",
       "                        <th id=\"T_c9a61_level0_row14\" class=\"row_heading level0 row14\" >14</th>\n",
       "                        <td id=\"T_c9a61_row14_col0\" class=\"data row14 col0\" >15</td>\n",
       "                        <td id=\"T_c9a61_row14_col1\" class=\"data row14 col1\" >F</td>\n",
       "                        <td id=\"T_c9a61_row14_col2\" class=\"data row14 col2\" >Luxury</td>\n",
       "                        <td id=\"T_c9a61_row14_col3\" class=\"data row14 col3\" >Small</td>\n",
       "                        <td id=\"T_c9a61_row14_col4\" class=\"data row14 col4\" >C1</td>\n",
       "            </tr>\n",
       "            <tr>\n",
       "                        <th id=\"T_c9a61_level0_row15\" class=\"row_heading level0 row15\" >15</th>\n",
       "                        <td id=\"T_c9a61_row15_col0\" class=\"data row15 col0\" >16</td>\n",
       "                        <td id=\"T_c9a61_row15_col1\" class=\"data row15 col1\" >F</td>\n",
       "                        <td id=\"T_c9a61_row15_col2\" class=\"data row15 col2\" >Luxury</td>\n",
       "                        <td id=\"T_c9a61_row15_col3\" class=\"data row15 col3\" >Small</td>\n",
       "                        <td id=\"T_c9a61_row15_col4\" class=\"data row15 col4\" >C1</td>\n",
       "            </tr>\n",
       "            <tr>\n",
       "                        <th id=\"T_c9a61_level0_row16\" class=\"row_heading level0 row16\" >16</th>\n",
       "                        <td id=\"T_c9a61_row16_col0\" class=\"data row16 col0\" >17</td>\n",
       "                        <td id=\"T_c9a61_row16_col1\" class=\"data row16 col1\" >F</td>\n",
       "                        <td id=\"T_c9a61_row16_col2\" class=\"data row16 col2\" >Luxury</td>\n",
       "                        <td id=\"T_c9a61_row16_col3\" class=\"data row16 col3\" >Medium</td>\n",
       "                        <td id=\"T_c9a61_row16_col4\" class=\"data row16 col4\" >C1</td>\n",
       "            </tr>\n",
       "            <tr>\n",
       "                        <th id=\"T_c9a61_level0_row17\" class=\"row_heading level0 row17\" >17</th>\n",
       "                        <td id=\"T_c9a61_row17_col0\" class=\"data row17 col0\" >18</td>\n",
       "                        <td id=\"T_c9a61_row17_col1\" class=\"data row17 col1\" >F</td>\n",
       "                        <td id=\"T_c9a61_row17_col2\" class=\"data row17 col2\" >Luxury</td>\n",
       "                        <td id=\"T_c9a61_row17_col3\" class=\"data row17 col3\" >Medium</td>\n",
       "                        <td id=\"T_c9a61_row17_col4\" class=\"data row17 col4\" >C1</td>\n",
       "            </tr>\n",
       "            <tr>\n",
       "                        <th id=\"T_c9a61_level0_row18\" class=\"row_heading level0 row18\" >18</th>\n",
       "                        <td id=\"T_c9a61_row18_col0\" class=\"data row18 col0\" >19</td>\n",
       "                        <td id=\"T_c9a61_row18_col1\" class=\"data row18 col1\" >F</td>\n",
       "                        <td id=\"T_c9a61_row18_col2\" class=\"data row18 col2\" >Luxury</td>\n",
       "                        <td id=\"T_c9a61_row18_col3\" class=\"data row18 col3\" >Medium</td>\n",
       "                        <td id=\"T_c9a61_row18_col4\" class=\"data row18 col4\" >C1</td>\n",
       "            </tr>\n",
       "            <tr>\n",
       "                        <th id=\"T_c9a61_level0_row19\" class=\"row_heading level0 row19\" >19</th>\n",
       "                        <td id=\"T_c9a61_row19_col0\" class=\"data row19 col0\" >20</td>\n",
       "                        <td id=\"T_c9a61_row19_col1\" class=\"data row19 col1\" >F</td>\n",
       "                        <td id=\"T_c9a61_row19_col2\" class=\"data row19 col2\" >Luxury</td>\n",
       "                        <td id=\"T_c9a61_row19_col3\" class=\"data row19 col3\" >Large</td>\n",
       "                        <td id=\"T_c9a61_row19_col4\" class=\"data row19 col4\" >C1</td>\n",
       "            </tr>\n",
       "    </tbody></table>"
      ],
      "text/plain": [
       "<pandas.io.formats.style.Styler at 0x7fa74be00d00>"
      ]
     },
     "execution_count": 50,
     "metadata": {},
     "output_type": "execute_result"
    }
   ],
   "source": [
    "EX_3_2     = '../data/ex-3_2.csv'\n",
    "EX_3_3     = '../data/ex-3_3.csv'\n",
    "EX_3_6     = '../data/ex-3_6.csv'\n",
    "EX_3_EXTRA = '../data/ex-3_extra.csv'\n",
    "VERTEBRATE = '../data/vertebrate.csv'\n",
    "\n",
    "filename = EX_3_2\n",
    "# We have set to compute the gini for the Class\n",
    "label_name = 'Class'\n",
    "dropped_features = ['CustomerID']\n",
    "\n",
    "# filename = EX_3_3\n",
    "# label_name = 'Target_Class'\n",
    "# dropped_features = ['Instance']\n",
    "\n",
    "# *** This is a more complex case where you have 2 labels/dependent variables. ***\n",
    "# *** Don't run decision tree on it as of yet ***\n",
    "# filename = EX_3_6\n",
    "# label_name = 'C1'\n",
    "# dropped_features = []\n",
    "\n",
    "# filename = EX_3_EXTRA\n",
    "# label_name = 'default'\n",
    "# dropped_features = []\n",
    "\n",
    "# filename = VERTEBRATE\n",
    "# label_name = 'Class'\n",
    "# dropped_features = ['Name']\n",
    "\n",
    "df = pd.read_csv(filename)\n",
    "df.style"
   ]
  },
  {
   "cell_type": "markdown",
   "id": "ce4189e2",
   "metadata": {},
   "source": [
    "## *** Data Mapping for some data sets ***\n",
    "### Begins"
   ]
  },
  {
   "cell_type": "code",
   "execution_count": 51,
   "id": "317a5f0d",
   "metadata": {},
   "outputs": [
    {
     "data": {
      "text/html": [
       "<div>\n",
       "<style scoped>\n",
       "    .dataframe tbody tr th:only-of-type {\n",
       "        vertical-align: middle;\n",
       "    }\n",
       "\n",
       "    .dataframe tbody tr th {\n",
       "        vertical-align: top;\n",
       "    }\n",
       "\n",
       "    .dataframe thead th {\n",
       "        text-align: right;\n",
       "    }\n",
       "</style>\n",
       "<table border=\"1\" class=\"dataframe\">\n",
       "  <thead>\n",
       "    <tr style=\"text-align: right;\">\n",
       "      <th></th>\n",
       "      <th>CustomerID</th>\n",
       "      <th>Gender</th>\n",
       "      <th>Car Type</th>\n",
       "      <th>Shirt Size</th>\n",
       "      <th>Class</th>\n",
       "    </tr>\n",
       "  </thead>\n",
       "  <tbody>\n",
       "    <tr>\n",
       "      <th>0</th>\n",
       "      <td>1</td>\n",
       "      <td>1</td>\n",
       "      <td>1</td>\n",
       "      <td>1</td>\n",
       "      <td>C0</td>\n",
       "    </tr>\n",
       "    <tr>\n",
       "      <th>1</th>\n",
       "      <td>2</td>\n",
       "      <td>1</td>\n",
       "      <td>2</td>\n",
       "      <td>2</td>\n",
       "      <td>C0</td>\n",
       "    </tr>\n",
       "    <tr>\n",
       "      <th>2</th>\n",
       "      <td>3</td>\n",
       "      <td>1</td>\n",
       "      <td>2</td>\n",
       "      <td>2</td>\n",
       "      <td>C0</td>\n",
       "    </tr>\n",
       "    <tr>\n",
       "      <th>3</th>\n",
       "      <td>4</td>\n",
       "      <td>1</td>\n",
       "      <td>2</td>\n",
       "      <td>3</td>\n",
       "      <td>C0</td>\n",
       "    </tr>\n",
       "    <tr>\n",
       "      <th>4</th>\n",
       "      <td>5</td>\n",
       "      <td>1</td>\n",
       "      <td>2</td>\n",
       "      <td>4</td>\n",
       "      <td>C0</td>\n",
       "    </tr>\n",
       "    <tr>\n",
       "      <th>5</th>\n",
       "      <td>6</td>\n",
       "      <td>1</td>\n",
       "      <td>2</td>\n",
       "      <td>4</td>\n",
       "      <td>C0</td>\n",
       "    </tr>\n",
       "    <tr>\n",
       "      <th>6</th>\n",
       "      <td>7</td>\n",
       "      <td>2</td>\n",
       "      <td>2</td>\n",
       "      <td>1</td>\n",
       "      <td>C0</td>\n",
       "    </tr>\n",
       "    <tr>\n",
       "      <th>7</th>\n",
       "      <td>8</td>\n",
       "      <td>2</td>\n",
       "      <td>2</td>\n",
       "      <td>1</td>\n",
       "      <td>C0</td>\n",
       "    </tr>\n",
       "    <tr>\n",
       "      <th>8</th>\n",
       "      <td>9</td>\n",
       "      <td>2</td>\n",
       "      <td>2</td>\n",
       "      <td>2</td>\n",
       "      <td>C0</td>\n",
       "    </tr>\n",
       "    <tr>\n",
       "      <th>9</th>\n",
       "      <td>10</td>\n",
       "      <td>2</td>\n",
       "      <td>3</td>\n",
       "      <td>3</td>\n",
       "      <td>C0</td>\n",
       "    </tr>\n",
       "    <tr>\n",
       "      <th>10</th>\n",
       "      <td>11</td>\n",
       "      <td>1</td>\n",
       "      <td>1</td>\n",
       "      <td>3</td>\n",
       "      <td>C1</td>\n",
       "    </tr>\n",
       "    <tr>\n",
       "      <th>11</th>\n",
       "      <td>12</td>\n",
       "      <td>1</td>\n",
       "      <td>1</td>\n",
       "      <td>4</td>\n",
       "      <td>C1</td>\n",
       "    </tr>\n",
       "    <tr>\n",
       "      <th>12</th>\n",
       "      <td>13</td>\n",
       "      <td>1</td>\n",
       "      <td>1</td>\n",
       "      <td>2</td>\n",
       "      <td>C1</td>\n",
       "    </tr>\n",
       "    <tr>\n",
       "      <th>13</th>\n",
       "      <td>14</td>\n",
       "      <td>1</td>\n",
       "      <td>3</td>\n",
       "      <td>4</td>\n",
       "      <td>C1</td>\n",
       "    </tr>\n",
       "    <tr>\n",
       "      <th>14</th>\n",
       "      <td>15</td>\n",
       "      <td>2</td>\n",
       "      <td>3</td>\n",
       "      <td>1</td>\n",
       "      <td>C1</td>\n",
       "    </tr>\n",
       "    <tr>\n",
       "      <th>15</th>\n",
       "      <td>16</td>\n",
       "      <td>2</td>\n",
       "      <td>3</td>\n",
       "      <td>1</td>\n",
       "      <td>C1</td>\n",
       "    </tr>\n",
       "    <tr>\n",
       "      <th>16</th>\n",
       "      <td>17</td>\n",
       "      <td>2</td>\n",
       "      <td>3</td>\n",
       "      <td>2</td>\n",
       "      <td>C1</td>\n",
       "    </tr>\n",
       "    <tr>\n",
       "      <th>17</th>\n",
       "      <td>18</td>\n",
       "      <td>2</td>\n",
       "      <td>3</td>\n",
       "      <td>2</td>\n",
       "      <td>C1</td>\n",
       "    </tr>\n",
       "    <tr>\n",
       "      <th>18</th>\n",
       "      <td>19</td>\n",
       "      <td>2</td>\n",
       "      <td>3</td>\n",
       "      <td>2</td>\n",
       "      <td>C1</td>\n",
       "    </tr>\n",
       "    <tr>\n",
       "      <th>19</th>\n",
       "      <td>20</td>\n",
       "      <td>2</td>\n",
       "      <td>3</td>\n",
       "      <td>3</td>\n",
       "      <td>C1</td>\n",
       "    </tr>\n",
       "  </tbody>\n",
       "</table>\n",
       "</div>"
      ],
      "text/plain": [
       "    CustomerID  Gender  Car Type  Shirt Size Class\n",
       "0            1       1         1           1    C0\n",
       "1            2       1         2           2    C0\n",
       "2            3       1         2           2    C0\n",
       "3            4       1         2           3    C0\n",
       "4            5       1         2           4    C0\n",
       "5            6       1         2           4    C0\n",
       "6            7       2         2           1    C0\n",
       "7            8       2         2           1    C0\n",
       "8            9       2         2           2    C0\n",
       "9           10       2         3           3    C0\n",
       "10          11       1         1           3    C1\n",
       "11          12       1         1           4    C1\n",
       "12          13       1         1           2    C1\n",
       "13          14       1         3           4    C1\n",
       "14          15       2         3           1    C1\n",
       "15          16       2         3           1    C1\n",
       "16          17       2         3           2    C1\n",
       "17          18       2         3           2    C1\n",
       "18          19       2         3           2    C1\n",
       "19          20       2         3           3    C1"
      ]
     },
     "execution_count": 51,
     "metadata": {},
     "output_type": "execute_result"
    }
   ],
   "source": [
    "# Convert the data to numerical value\n",
    "if filename == EX_3_2:\n",
    "    gender = {'M': 1, 'F': 2}\n",
    "    car_type = {'Family': 1, 'Sports': 2, 'Luxury': 3}\n",
    "    shirt_size = {'Small': 1, 'Medium':2, 'Large': 3, 'Extra Large': 4} # Preserving the order: Small, Medium, Large, Extra Lage ...\n",
    "    df = df.replace({'Gender': gender}).replace({'Car Type': car_type}).replace({'Shirt Size': shirt_size})\n",
    "elif filename == EX_3_3:\n",
    "    a1 = {'F': 0, 'T': 1}\n",
    "    a2 = {'F': 0, 'T': 1}\n",
    "    df = df.replace({'a1': a1}).replace({'a2': a2})\n",
    "elif filename == EX_3_EXTRA:\n",
    "    age = {'youth': 1, 'middle_age': 2, 'senior': 3}\n",
    "    income = {'low': 1, 'medium': 2, 'high': 3}\n",
    "    student = {'no': 0, 'yes': 1}\n",
    "    credit_rate = {'fair': 1, 'excellent': 2}\n",
    "    df = df.replace({'age': age}).replace({'income': income}).replace({'student': student}).replace({'credit_rate':credit_rate})\n",
    "df"
   ]
  },
  {
   "cell_type": "markdown",
   "id": "e8fcfb3d",
   "metadata": {},
   "source": [
    "## *** Data Mapping***\n",
    "### Ends"
   ]
  },
  {
   "cell_type": "markdown",
   "id": "070ebefa",
   "metadata": {},
   "source": [
    "## *** FOR vertebrate.csv ONLY ***\n",
    "### Begins"
   ]
  },
  {
   "cell_type": "code",
   "execution_count": 52,
   "id": "a8ee85c5",
   "metadata": {},
   "outputs": [],
   "source": [
    "## For data set `vertebrate.csv`, we are binarization the columns as follows:\n",
    "if filename == VERTEBRATE:\n",
    "    df_old = df.copy(deep=True)\n",
    "    df[label_name] = df[label_name].replace(['fishes','birds','amphibians','reptiles'],'non-mammals')\n",
    "    df"
   ]
  },
  {
   "cell_type": "code",
   "execution_count": 53,
   "id": "47096137",
   "metadata": {},
   "outputs": [],
   "source": [
    "if filename == VERTEBRATE:\n",
    "    pd.crosstab([df['Warm-blooded'],df['Gives Birth']],df[label_name])"
   ]
  },
  {
   "cell_type": "markdown",
   "id": "e682a018",
   "metadata": {},
   "source": [
    "## *** FOR vertebrate.csv ONLY ***\n",
    "### Ends"
   ]
  },
  {
   "cell_type": "markdown",
   "id": "78cdbeb0",
   "metadata": {},
   "source": [
    "## Compute Gini Index, Entropy & Information Gain (IG)"
   ]
  },
  {
   "cell_type": "code",
   "execution_count": 57,
   "id": "dc09dbc4",
   "metadata": {
    "scrolled": true
   },
   "outputs": [
    {
     "name": "stdout",
     "output_type": "stream",
     "text": [
      "\n",
      "***CustomerID***\n",
      "\n",
      "ginis: {1: 0.0, 2: 0.0, 3: 0.0, 4: 0.0, 5: 0.0, 6: 0.0, 7: 0.0, 8: 0.0, 9: 0.0, 10: 0.0, 11: 0.0, 12: 0.0, 13: 0.0, 14: 0.0, 15: 0.0, 16: 0.0, 17: 0.0, 18: 0.0, 19: 0.0, 20: 0.0}\n",
      "overall G: 0.0\n",
      "\n",
      "***Gender***\n",
      "\n",
      "ginis: {1: 0.48, 2: 0.48}\n",
      "overall G: 0.48\n",
      "\n",
      "***Car Type***\n",
      "\n",
      "ginis: {1: 0.375, 2: 0.0, 3: 0.21875}\n",
      "overall G: 0.16249999999999998\n",
      "\n",
      "***Shirt Size***\n",
      "\n",
      "ginis: {1: 0.48, 2: 0.489795918367347, 3: 0.5, 4: 0.5}\n",
      "overall G: 0.49142857142857144\n"
     ]
    },
    {
     "data": {
      "text/html": [
       "<div>\n",
       "<style scoped>\n",
       "    .dataframe tbody tr th:only-of-type {\n",
       "        vertical-align: middle;\n",
       "    }\n",
       "\n",
       "    .dataframe tbody tr th {\n",
       "        vertical-align: top;\n",
       "    }\n",
       "\n",
       "    .dataframe thead th {\n",
       "        text-align: right;\n",
       "    }\n",
       "</style>\n",
       "<table border=\"1\" class=\"dataframe\">\n",
       "  <thead>\n",
       "    <tr style=\"text-align: right;\">\n",
       "      <th></th>\n",
       "      <th>Feature</th>\n",
       "      <th>G(vi)</th>\n",
       "      <th>G(S)</th>\n",
       "    </tr>\n",
       "  </thead>\n",
       "  <tbody>\n",
       "    <tr>\n",
       "      <th>0</th>\n",
       "      <td>CustomerID</td>\n",
       "      <td>{1: 0.0, 2: 0.0, 3: 0.0, 4: 0.0, 5: 0.0, 6: 0....</td>\n",
       "      <td>0.0</td>\n",
       "    </tr>\n",
       "    <tr>\n",
       "      <th>0</th>\n",
       "      <td>Gender</td>\n",
       "      <td>{1: 0.48, 2: 0.48}</td>\n",
       "      <td>0.48</td>\n",
       "    </tr>\n",
       "    <tr>\n",
       "      <th>0</th>\n",
       "      <td>Car Type</td>\n",
       "      <td>{1: 0.375, 2: 0.0, 3: 0.21875}</td>\n",
       "      <td>0.1625</td>\n",
       "    </tr>\n",
       "    <tr>\n",
       "      <th>0</th>\n",
       "      <td>Shirt Size</td>\n",
       "      <td>{1: 0.48, 2: 0.489795918367347, 3: 0.5, 4: 0.5}</td>\n",
       "      <td>0.491429</td>\n",
       "    </tr>\n",
       "  </tbody>\n",
       "</table>\n",
       "</div>"
      ],
      "text/plain": [
       "      Feature                                              G(vi)      G(S)\n",
       "0  CustomerID  {1: 0.0, 2: 0.0, 3: 0.0, 4: 0.0, 5: 0.0, 6: 0....       0.0\n",
       "0      Gender                                 {1: 0.48, 2: 0.48}      0.48\n",
       "0    Car Type                     {1: 0.375, 2: 0.0, 3: 0.21875}    0.1625\n",
       "0  Shirt Size    {1: 0.48, 2: 0.489795918367347, 3: 0.5, 4: 0.5}  0.491429"
      ]
     },
     "metadata": {},
     "output_type": "display_data"
    }
   ],
   "source": [
    "## Splitting data set into multiple data sets by values of the `label`.\n",
    "# Things that we want to predict in the future is this 'classes', which in this case it is Class(C0, C1)\n",
    "classes = df[label_name].unique()\n",
    "# Name of the attributes (columns name) (['CustomerID', 'Gender', 'Car Type', 'Shirt Size', 'Class'])\n",
    "feat_list = df.columns.to_list()\n",
    "# Remove the column that we would want to predict\n",
    "feat_list.remove(label_name)\n",
    "\n",
    "# Numbers of data\n",
    "n = len(df)\n",
    "# Create an empty dataframes by classes and then seperate the data base on classes\n",
    "dfs_by_classes = {}\n",
    "for cls in classes:\n",
    "    dfs_by_classes[cls] = df[df[label_name] == cls]\n",
    "\n",
    "df_gini_output = pd.DataFrame()\n",
    "\n",
    "dfs = []\n",
    "# For each of this feature, we compute the gini value\n",
    "for feat_name in feat_list:\n",
    "    print(f'\\n***{feat_name}***\\n')\n",
    "    feat_values = df[feat_name].unique()\n",
    "    # Give dfs_by_classes, feature name, feature values(1 or 2)\n",
    "    ginis, overall_g = get_gini_by_classes(dfs_by_classes, feat_name, feat_values, n)\n",
    "    print('ginis:', ginis)\n",
    "    print('overall G:', overall_g)\n",
    "    dfs.append(pd.DataFrame([feat_name, ginis, overall_g]).transpose())    \n",
    "\n",
    "df_gini_output = pd.concat(dfs)\n",
    "df_gini_output.columns = ['Feature', 'G(vi)', 'G(S)']\n",
    "display(df_gini_output)"
   ]
  },
  {
   "cell_type": "code",
   "execution_count": 11,
   "id": "b015ba96",
   "metadata": {},
   "outputs": [
    {
     "name": "stdout",
     "output_type": "stream",
     "text": [
      "E(S) = 0.9183\n",
      "counts: {'mammals': 5, 'non-mammals': 10}\n"
     ]
    }
   ],
   "source": [
    "# Calculate the entropy value base on df: data frame, label_name: which class we would\n",
    "# want to predict. For this case the we would want to predict the Class, so the label name\n",
    "# is \"Class\"\n",
    "e, counts = get_entropy(df, label_name)\n",
    "print(f'E(S) = {round(e,4)}')\n",
    "print('counts:', counts)\n"
   ]
  },
  {
   "cell_type": "code",
   "execution_count": 12,
   "id": "f067bedf",
   "metadata": {},
   "outputs": [
    {
     "name": "stdout",
     "output_type": "stream",
     "text": [
      "\n",
      "---> IG for Name\n",
      "feat_unique_values ['human' 'python' 'salmon' 'whale' 'frog' 'komodo' 'bat' 'pigeon' 'cat'\n",
      " 'leopard shark' 'turtle' 'penguin' 'porcupine' 'eel' 'salamander']\n",
      "feat_counts {'human': 1, 'python': 1, 'salmon': 1, 'whale': 1, 'frog': 1, 'komodo': 1, 'bat': 1, 'pigeon': 1, 'cat': 1, 'leopard shark': 1, 'turtle': 1, 'penguin': 1, 'porcupine': 1, 'eel': 1, 'salamander': 1}\n",
      "1: 0.0\n",
      "1: 0.0\n",
      "1: 0.0\n",
      "1: 0.0\n",
      "1: 0.0\n",
      "1: 0.0\n",
      "1: 0.0\n",
      "1: 0.0\n",
      "1: 0.0\n",
      "1: 0.0\n",
      "1: 0.0\n",
      "1: 0.0\n",
      "1: 0.0\n",
      "1: 0.0\n",
      "1: 0.0\n",
      "Name: e_split = 0.0 & ig = 0.9183\n",
      "\n",
      "---> IG for Warm-blooded\n",
      "feat_unique_values [1 0]\n",
      "feat_counts {1: 7, 0: 8}\n",
      "7: 0.4027895986644278\n",
      "8: 0.4027895986644278\n",
      "Warm-blooded: e_split = 0.4028 & ig = 0.5155\n",
      "\n",
      "---> IG for Gives Birth\n",
      "feat_unique_values [1 0]\n",
      "feat_counts {1: 6, 0: 9}\n",
      "6: 0.26000896865934164\n",
      "9: 0.26000896865934164\n",
      "Gives Birth: e_split = 0.26 & ig = 0.6583\n",
      "\n",
      "---> IG for Aquatic Creature\n",
      "feat_unique_values [0 1]\n",
      "feat_counts {0: 7, 1: 8}\n",
      "7: 0.4597731301493174\n",
      "8: 0.7496741665224356\n",
      "Aquatic Creature: e_split = 0.7497 & ig = 0.1686\n",
      "\n",
      "---> IG for Aerial Creature\n",
      "feat_unique_values [0 1]\n",
      "feat_counts {0: 13, 1: 2}\n",
      "13: 0.7717594215235591\n",
      "2: 0.9050927548568924\n",
      "Aerial Creature: e_split = 0.9051 & ig = 0.0132\n",
      "\n",
      "---> IG for Has Legs\n",
      "feat_unique_values [1 0]\n",
      "feat_counts {1: 10, 0: 5}\n",
      "10: 0.6473003963031123\n",
      "5: 0.8879430945988998\n",
      "Has Legs: e_split = 0.8879 & ig = 0.0304\n",
      "\n",
      "---> IG for Hibernates\n",
      "feat_unique_values [0 1]\n",
      "feat_counts {0: 10, 1: 5}\n",
      "10: 0.5875272661537951\n",
      "5: 0.9111774643053513\n",
      "Hibernates: e_split = 0.9112 & ig = 0.0071\n"
     ]
    }
   ],
   "source": [
    "# Calculate the information gain base off df: dataframe, label_name: class we want, \n",
    "for feat_name in df_gini_output['Feature']:\n",
    "    print (f'\\n---> IG for {feat_name}')\n",
    "    e_split, ig = get_ig(df, label_name, feat_name)\n",
    "    print(f'{feat_name}: e_split = {round(e_split,4)} & ig = {round(ig,4)}')\n",
    "    \n"
   ]
  },
  {
   "cell_type": "markdown",
   "id": "f4d177b2",
   "metadata": {},
   "source": [
    "# Decision Trees ***\n",
    "## Gini Coefficient"
   ]
  },
  {
   "cell_type": "code",
   "execution_count": 13,
   "id": "fbe21e6a",
   "metadata": {},
   "outputs": [],
   "source": [
    "Y = df[label_name]\n",
    "X = df.drop(dropped_features + [label_name], axis=1)\n",
    "    \n",
    "depth = 3\n",
    "clf = tree.DecisionTreeClassifier(criterion='gini', max_depth=depth) # gini, entropy\n",
    "clf = clf.fit(X, Y)"
   ]
  },
  {
   "cell_type": "code",
   "execution_count": 14,
   "id": "0e466b9b",
   "metadata": {},
   "outputs": [
    {
     "data": {
      "text/plain": [
       "array(['mammals', 'non-mammals'], dtype=object)"
      ]
     },
     "execution_count": 14,
     "metadata": {},
     "output_type": "execute_result"
    }
   ],
   "source": [
    "class_names = df[label_name].unique()\n",
    "class_names"
   ]
  },
  {
   "cell_type": "code",
   "execution_count": 15,
   "id": "bc6c3675",
   "metadata": {},
   "outputs": [
    {
     "data": {
      "image/png": "[encoded data removed]",
      "text/plain": [
       "<IPython.core.display.Image object>"
      ]
     },
     "execution_count": 15,
     "metadata": {},
     "output_type": "execute_result"
    }
   ],
   "source": [
    "class_names = df[label_name].unique()\n",
    "dot_data = tree.export_graphviz(clf, feature_names=X.columns, class_names=class_names, filled=True, \n",
    "                                out_file=None) \n",
    "graph = pydotplus.graph_from_dot_data(dot_data) \n",
    "Image(graph.create_png())"
   ]
  },
  {
   "cell_type": "markdown",
   "id": "350a8902",
   "metadata": {},
   "source": [
    "# Decision Tree *** for vertebrate.csv data set ***\n",
    "## Gini Coefficient"
   ]
  },
  {
   "cell_type": "code",
   "execution_count": 16,
   "id": "b8b45f07",
   "metadata": {},
   "outputs": [],
   "source": [
    "Y = df[label_name]\n",
    "X = df.drop(dropped_features + [label_name], axis=1)\n",
    "\n",
    "depth = 5\n",
    "clf = tree.DecisionTreeClassifier(criterion='gini',max_depth=depth) # gini, entropy\n",
    "clf = clf.fit(X, Y)\n",
    "# display(X)\n",
    "# display(Y)"
   ]
  },
  {
   "cell_type": "markdown",
   "id": "f7686d52",
   "metadata": {},
   "source": [
    "## Graph the Tree\n"
   ]
  },
  {
   "cell_type": "code",
   "execution_count": 17,
   "id": "61e58f08",
   "metadata": {},
   "outputs": [
    {
     "data": {
      "image/png": "[encoded data removed]",
      "text/plain": [
       "<IPython.core.display.Image object>"
      ]
     },
     "execution_count": 17,
     "metadata": {},
     "output_type": "execute_result"
    }
   ],
   "source": [
    "dot_data = tree.export_graphviz(clf, feature_names=X.columns, class_names=class_names, filled=True, \n",
    "                                out_file=None) \n",
    "graph = pydotplus.graph_from_dot_data(dot_data) \n",
    "Image(graph.create_png())"
   ]
  },
  {
   "cell_type": "markdown",
   "id": "4bccb180",
   "metadata": {},
   "source": [
    "## Entropy"
   ]
  },
  {
   "cell_type": "code",
   "execution_count": 18,
   "id": "0c383b52",
   "metadata": {},
   "outputs": [],
   "source": [
    "Y = df[label_name]\n",
    "X = df.drop(dropped_features + [label_name], axis=1)\n",
    "\n",
    "depth = 5\n",
    "clf = tree.DecisionTreeClassifier(criterion='entropy',max_depth=depth) # gini, entropy\n",
    "clf = clf.fit(X, Y)"
   ]
  },
  {
   "cell_type": "markdown",
   "id": "1e1f635a",
   "metadata": {},
   "source": [
    "## Graph the tree"
   ]
  },
  {
   "cell_type": "code",
   "execution_count": 19,
   "id": "4340d332",
   "metadata": {},
   "outputs": [
    {
     "data": {
      "image/png": "[encoded data removed]",
      "text/plain": [
       "<IPython.core.display.Image object>"
      ]
     },
     "execution_count": 19,
     "metadata": {},
     "output_type": "execute_result"
    }
   ],
   "source": [
    "dot_data = tree.export_graphviz(clf, feature_names=X.columns, class_names=class_names, filled=True, \n",
    "                                out_file=None) \n",
    "graph = pydotplus.graph_from_dot_data(dot_data) \n",
    "Image(graph.create_png())"
   ]
  },
  {
   "cell_type": "markdown",
   "id": "4bc70cae",
   "metadata": {},
   "source": [
    "## Testing the classifier\n"
   ]
  },
  {
   "cell_type": "code",
   "execution_count": 20,
   "id": "74a743a5",
   "metadata": {},
   "outputs": [],
   "source": [
    "test_data = []\n",
    "if filename == VERTEBRATE:    \n",
    "    test_data = [['gila monster',0,0,0,0,1,1,'non-mammals'],\n",
    "               ['platypus',1,0,0,0,1,1,'mammals'],\n",
    "               ['owl',1,0,0,1,1,0,'non-mammals'],\n",
    "               ['dolphin',1,1,1,0,0,0,'mammals']]\n",
    "    df_test_data = pd.DataFrame(test_data, columns=df.columns)\n",
    "    df_test_data"
   ]
  },
  {
   "cell_type": "markdown",
   "id": "c64273d9",
   "metadata": {},
   "source": [
    "## Making Prediction on test data."
   ]
  },
  {
   "cell_type": "code",
   "execution_count": 21,
   "id": "c1f807d5",
   "metadata": {},
   "outputs": [
    {
     "ename": "NameError",
     "evalue": "name 'testData' is not defined",
     "output_type": "error",
     "traceback": [
      "\u001b[0;31m---------------------------------------------------------------------------\u001b[0m",
      "\u001b[0;31mNameError\u001b[0m                                 Traceback (most recent call last)",
      "\u001b[0;32m<ipython-input-21-2a2a6065bad3>\u001b[0m in \u001b[0;36m<module>\u001b[0;34m\u001b[0m\n\u001b[1;32m      3\u001b[0m     \u001b[0mtestX\u001b[0m \u001b[0;34m=\u001b[0m \u001b[0mdf_test_data\u001b[0m\u001b[0;34m.\u001b[0m\u001b[0mdrop\u001b[0m\u001b[0;34m(\u001b[0m\u001b[0mdropped_features\u001b[0m \u001b[0;34m+\u001b[0m \u001b[0;34m[\u001b[0m\u001b[0mlabel_name\u001b[0m\u001b[0;34m]\u001b[0m\u001b[0;34m,\u001b[0m \u001b[0maxis\u001b[0m\u001b[0;34m=\u001b[0m\u001b[0;36m1\u001b[0m\u001b[0;34m)\u001b[0m\u001b[0;34m\u001b[0m\u001b[0;34m\u001b[0m\u001b[0m\n\u001b[1;32m      4\u001b[0m     \u001b[0mpredY\u001b[0m \u001b[0;34m=\u001b[0m \u001b[0mclf\u001b[0m\u001b[0;34m.\u001b[0m\u001b[0mpredict\u001b[0m\u001b[0;34m(\u001b[0m\u001b[0mtestX\u001b[0m\u001b[0;34m)\u001b[0m\u001b[0;34m\u001b[0m\u001b[0;34m\u001b[0m\u001b[0m\n\u001b[0;32m----> 5\u001b[0;31m     \u001b[0mpredictions\u001b[0m \u001b[0;34m=\u001b[0m \u001b[0mpd\u001b[0m\u001b[0;34m.\u001b[0m\u001b[0mconcat\u001b[0m\u001b[0;34m(\u001b[0m\u001b[0;34m[\u001b[0m\u001b[0mtestData\u001b[0m\u001b[0;34m[\u001b[0m\u001b[0;34m'Name'\u001b[0m\u001b[0;34m]\u001b[0m\u001b[0;34m,\u001b[0m\u001b[0mpd\u001b[0m\u001b[0;34m.\u001b[0m\u001b[0mSeries\u001b[0m\u001b[0;34m(\u001b[0m\u001b[0mpredY\u001b[0m\u001b[0;34m,\u001b[0m\u001b[0mname\u001b[0m\u001b[0;34m=\u001b[0m\u001b[0;34m'Predicted Class'\u001b[0m\u001b[0;34m)\u001b[0m\u001b[0;34m]\u001b[0m\u001b[0;34m,\u001b[0m \u001b[0maxis\u001b[0m\u001b[0;34m=\u001b[0m\u001b[0;36m1\u001b[0m\u001b[0;34m)\u001b[0m\u001b[0;34m\u001b[0m\u001b[0;34m\u001b[0m\u001b[0m\n\u001b[0m\u001b[1;32m      6\u001b[0m     \u001b[0mpredictions\u001b[0m\u001b[0;34m\u001b[0m\u001b[0;34m\u001b[0m\u001b[0m\n",
      "\u001b[0;31mNameError\u001b[0m: name 'testData' is not defined"
     ]
    }
   ],
   "source": [
    "if test_data:\n",
    "    testY = df_test_data[label_name]\n",
    "    testX = df_test_data.drop(dropped_features + [label_name], axis=1)\n",
    "    predY = clf.predict(testX)\n",
    "    predictions = pd.concat([testData['Name'],pd.Series(predY,name='Predicted Class')], axis=1)\n",
    "    predictions"
   ]
  },
  {
   "cell_type": "code",
   "execution_count": null,
   "id": "51a2b877",
   "metadata": {},
   "outputs": [],
   "source": [
    "from sklearn.metrics import accuracy_score\n",
    "\n",
    "if test_data:\n",
    "    print('Accuracy on test data is %.2f' % (accuracy_score(testY, predY)))"
   ]
  },
  {
   "cell_type": "markdown",
   "id": "36f99129",
   "metadata": {},
   "source": [
    "# Iris data confusion matrix,  accuracy value and error rate"
   ]
  },
  {
   "cell_type": "code",
   "execution_count": 8,
   "id": "0461f25c",
   "metadata": {},
   "outputs": [],
   "source": [
    "# Confusion Matrix\n",
    "import numpy as np\n",
    "import pandas as pd\n",
    "from sklearn import datasets\n",
    "import matplotlib.pyplot as plt\n",
    "import seaborn as sns\n",
    "random_state = 42"
   ]
  },
  {
   "cell_type": "code",
   "execution_count": 9,
   "id": "133ffb48",
   "metadata": {},
   "outputs": [],
   "source": [
    "def get_iris_dataset():\n",
    "    iris = datasets.load_iris()\n",
    "    iris_df = pd.DataFrame(iris.data, columns= iris.feature_names)\n",
    "    iris_df['target'] = iris.target\n",
    "    print('shape', iris_df.shape)\n",
    "    iris_df.head( )\n",
    "    return iris_df, iris.target_names"
   ]
  },
  {
   "cell_type": "code",
   "execution_count": 10,
   "id": "97ea7816",
   "metadata": {},
   "outputs": [
    {
     "name": "stdout",
     "output_type": "stream",
     "text": [
      "shape (150, 5)\n"
     ]
    },
    {
     "data": {
      "text/html": [
       "<div>\n",
       "<style scoped>\n",
       "    .dataframe tbody tr th:only-of-type {\n",
       "        vertical-align: middle;\n",
       "    }\n",
       "\n",
       "    .dataframe tbody tr th {\n",
       "        vertical-align: top;\n",
       "    }\n",
       "\n",
       "    .dataframe thead th {\n",
       "        text-align: right;\n",
       "    }\n",
       "</style>\n",
       "<table border=\"1\" class=\"dataframe\">\n",
       "  <thead>\n",
       "    <tr style=\"text-align: right;\">\n",
       "      <th></th>\n",
       "      <th>sepal length (cm)</th>\n",
       "      <th>sepal width (cm)</th>\n",
       "      <th>petal length (cm)</th>\n",
       "      <th>petal width (cm)</th>\n",
       "      <th>target</th>\n",
       "    </tr>\n",
       "  </thead>\n",
       "  <tbody>\n",
       "    <tr>\n",
       "      <th>0</th>\n",
       "      <td>5.1</td>\n",
       "      <td>3.5</td>\n",
       "      <td>1.4</td>\n",
       "      <td>0.2</td>\n",
       "      <td>0</td>\n",
       "    </tr>\n",
       "    <tr>\n",
       "      <th>1</th>\n",
       "      <td>4.9</td>\n",
       "      <td>3.0</td>\n",
       "      <td>1.4</td>\n",
       "      <td>0.2</td>\n",
       "      <td>0</td>\n",
       "    </tr>\n",
       "    <tr>\n",
       "      <th>2</th>\n",
       "      <td>4.7</td>\n",
       "      <td>3.2</td>\n",
       "      <td>1.3</td>\n",
       "      <td>0.2</td>\n",
       "      <td>0</td>\n",
       "    </tr>\n",
       "    <tr>\n",
       "      <th>3</th>\n",
       "      <td>4.6</td>\n",
       "      <td>3.1</td>\n",
       "      <td>1.5</td>\n",
       "      <td>0.2</td>\n",
       "      <td>0</td>\n",
       "    </tr>\n",
       "    <tr>\n",
       "      <th>4</th>\n",
       "      <td>5.0</td>\n",
       "      <td>3.6</td>\n",
       "      <td>1.4</td>\n",
       "      <td>0.2</td>\n",
       "      <td>0</td>\n",
       "    </tr>\n",
       "  </tbody>\n",
       "</table>\n",
       "</div>"
      ],
      "text/plain": [
       "   sepal length (cm)  sepal width (cm)  petal length (cm)  petal width (cm)  \\\n",
       "0                5.1               3.5                1.4               0.2   \n",
       "1                4.9               3.0                1.4               0.2   \n",
       "2                4.7               3.2                1.3               0.2   \n",
       "3                4.6               3.1                1.5               0.2   \n",
       "4                5.0               3.6                1.4               0.2   \n",
       "\n",
       "   target  \n",
       "0       0  \n",
       "1       0  \n",
       "2       0  \n",
       "3       0  \n",
       "4       0  "
      ]
     },
     "execution_count": 10,
     "metadata": {},
     "output_type": "execute_result"
    }
   ],
   "source": [
    "iris_df, target_names = get_iris_dataset()\n",
    "iris_df.head()"
   ]
  },
  {
   "cell_type": "code",
   "execution_count": 11,
   "id": "0b057c25",
   "metadata": {},
   "outputs": [
    {
     "name": "stdout",
     "output_type": "stream",
     "text": [
      "<class 'pandas.core.frame.DataFrame'>\n",
      "RangeIndex: 150 entries, 0 to 149\n",
      "Data columns (total 5 columns):\n",
      " #   Column             Non-Null Count  Dtype  \n",
      "---  ------             --------------  -----  \n",
      " 0   sepal length (cm)  150 non-null    float64\n",
      " 1   sepal width (cm)   150 non-null    float64\n",
      " 2   petal length (cm)  150 non-null    float64\n",
      " 3   petal width (cm)   150 non-null    float64\n",
      " 4   target             150 non-null    int64  \n",
      "dtypes: float64(4), int64(1)\n",
      "memory usage: 6.0 KB\n"
     ]
    }
   ],
   "source": [
    "iris_df.info()"
   ]
  },
  {
   "cell_type": "code",
   "execution_count": 12,
   "id": "8b2aae82",
   "metadata": {},
   "outputs": [
    {
     "name": "stdout",
     "output_type": "stream",
     "text": [
      "['setosa' 'versicolor' 'virginica']\n"
     ]
    }
   ],
   "source": [
    "print(target_names)"
   ]
  },
  {
   "cell_type": "code",
   "execution_count": 15,
   "id": "862f2205",
   "metadata": {},
   "outputs": [
    {
     "name": "stdout",
     "output_type": "stream",
     "text": [
      "0     0\n",
      "1     0\n",
      "2     0\n",
      "3     0\n",
      "4     0\n",
      "     ..\n",
      "95    1\n",
      "96    1\n",
      "97    1\n",
      "98    1\n",
      "99    1\n",
      "Name: target, Length: 100, dtype: int64\n"
     ]
    }
   ],
   "source": [
    "# select the rows with 0 and 1 target values\n",
    "data = iris_df[iris_df.target.isin([0,1]) ]\n",
    "feature = 'sepal length (cm)'\n",
    "\n",
    "#y is the target value and X is feature column\n",
    "y = data['target']\n",
    "X = data[feature]\n",
    "print(y)"
   ]
  },
  {
   "cell_type": "code",
   "execution_count": 16,
   "id": "cdace24b",
   "metadata": {},
   "outputs": [
    {
     "name": "stdout",
     "output_type": "stream",
     "text": [
      "Train Shape (80, 1) Test Shape (20, 1)\n"
     ]
    },
    {
     "data": {
      "text/plain": [
       "0    40\n",
       "1    40\n",
       "Name: target, dtype: int64"
      ]
     },
     "execution_count": 16,
     "metadata": {},
     "output_type": "execute_result"
    }
   ],
   "source": [
    "from sklearn.model_selection import train_test_split\n",
    "\n",
    "X_train, X_test, y_train, y_test = train_test_split(X, y, test_size = 0.2, random_state = random_state, stratify = y )\n",
    "\n",
    "X_train = X_train.values.reshape(-1,1)\n",
    "X_test = X_test.values.reshape(-1,1)\n",
    "\n",
    "\n",
    "print('Train Shape', X_train.shape, 'Test Shape', X_test.shape )\n",
    "y_train.value_counts()"
   ]
  },
  {
   "cell_type": "code",
   "execution_count": 18,
   "id": "194200bc",
   "metadata": {},
   "outputs": [
    {
     "data": {
      "text/plain": [
       "LogisticRegression(C=1, random_state=42)"
      ]
     },
     "execution_count": 18,
     "metadata": {},
     "output_type": "execute_result"
    }
   ],
   "source": [
    "from sklearn.linear_model import LogisticRegression\n",
    "\n",
    "model = LogisticRegression(random_state= random_state, C = 1, solver = 'lbfgs')\n",
    "model.fit(X_train, y_train)"
   ]
  },
  {
   "cell_type": "code",
   "execution_count": 20,
   "id": "afb103e6",
   "metadata": {},
   "outputs": [
    {
     "name": "stdout",
     "output_type": "stream",
     "text": [
      "Training Accuracy 0.925\n",
      "\n",
      "Test Accuracy 0.75\n",
      "\n",
      "Error Rate 0.25\n",
      "Test set confusion matrix\n",
      " [[8 2]\n",
      " [3 7]]\n"
     ]
    }
   ],
   "source": [
    "from sklearn.metrics import accuracy_score, confusion_matrix\n",
    "y_pred = model.predict(X_train)\n",
    "print('Training Accuracy', accuracy_score(y_train, y_pred))\n",
    "\n",
    "y_pred = model.predict(X_test)\n",
    "print('\\nTest Accuracy', accuracy_score(y_test, y_pred))\n",
    "print('\\nError Rate', 1 - accuracy_score(y_test, y_pred))\n",
    "print('Test set confusion matrix\\n', confusion_matrix(y_test, y_pred))"
   ]
  },
  {
   "cell_type": "code",
   "execution_count": null,
   "id": "8bb3a54e",
   "metadata": {},
   "outputs": [],
   "source": []
  }
 ],
 "metadata": {
  "kernelspec": {
   "display_name": "Python 3",
   "language": "python",
   "name": "python3"
  },
  "language_info": {
   "codemirror_mode": {
    "name": "ipython",
    "version": 3
   },
   "file_extension": ".py",
   "mimetype": "text/x-python",
   "name": "python",
   "nbconvert_exporter": "python",
   "pygments_lexer": "ipython3",
   "version": "3.8.8"
  }
 },
 "nbformat": 4,
 "nbformat_minor": 5
}
